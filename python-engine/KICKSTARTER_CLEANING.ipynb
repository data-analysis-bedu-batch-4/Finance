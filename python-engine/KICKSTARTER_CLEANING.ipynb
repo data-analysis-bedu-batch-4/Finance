{
 "cells": [
  {
   "cell_type": "markdown",
   "metadata": {},
   "source": [
    "# KICKSTARTER CLEANING \n",
    "DATA SCIENCE PROJECT "
   ]
  },
  {
   "cell_type": "markdown",
   "metadata": {},
   "source": [
    "MONICA A. SORIA \n",
    "\n",
    "\n",
    "This notebook contains the data preparation , wrangling and the first exploratory data analysis on the 'Kickstarter' database obtained from Kaggle. The purpose of this stage is to clean the database and save a new csv file. \n",
    "\n",
    "\n",
    "\n",
    "For further information on original file please refer to: https://www.kaggle.com/kemical/kickstarter-projects"
   ]
  },
  {
   "cell_type": "markdown",
   "metadata": {},
   "source": [
    "# DATA PREPARATION & WRANGLING"
   ]
  },
  {
   "cell_type": "markdown",
   "metadata": {},
   "source": [
    "SUMMARY OF CHANGES\n",
    "--------------------------------\n",
    "This stage consisted on understanding the database basic structure and looking for commmon dataframe problems such as: \n",
    "\n",
    "    (1) Data types cleaning: \n",
    "            * Format dates in deadline and launched are different, we changed them into a single datetime\n",
    "\n",
    "    (2) Missing data cleaning : \n",
    "            * name had 4 missing values\n",
    "            * usd_pledged contained 3797 missing values \n",
    "\n",
    "    (3) Text/ categorical data problems : \n",
    "             * Missunderstanding of terms: \n",
    "                > goal is the amount of money that a creator needs \n",
    "                > pledged is the amount pledged by \"crowd\"\n",
    "                > usd_pledged is a conversion by kickstarter \n",
    "                > usd pledge real is a conversion used in Fixer.io \n",
    "                > usd goal real : conversion of the goal column  \n",
    "\n",
    "    (4) Duplicated values :\n",
    "                * Only colums that are supposed to have \"unique\" values were \"ID\" & \"name\", so in case there are    duplicates we are being dropped.\n",
    "                \n",
    "                \n",
    "                #GENERAL : indicates information or changes applied to the whole database\n",
    "                #PARTICULAR : indicates information or modifications applied to a single column or data set\n"
   ]
  },
  {
   "cell_type": "code",
   "execution_count": 1,
   "metadata": {},
   "outputs": [],
   "source": [
    "#Import libraries \n",
    "import pandas as pd \n",
    "import matplotlib.pyplot as plt \n",
    "import numpy as np \n",
    "import seaborn as sns \n",
    "import datetime as dt "
   ]
  },
  {
   "cell_type": "code",
   "execution_count": 2,
   "metadata": {},
   "outputs": [],
   "source": [
    "# GENERAL : Read the data set\n",
    "kickstarter = pd.read_csv('ks-projects-201801.csv')"
   ]
  },
  {
   "cell_type": "code",
   "execution_count": 3,
   "metadata": {},
   "outputs": [
    {
     "name": "stdout",
     "output_type": "stream",
     "text": [
      "(378661, 15)\n"
     ]
    }
   ],
   "source": [
    "# GENERAL : Original basic structure of the database (rows and columns)\n",
    "print(kickstarter.shape)"
   ]
  },
  {
   "cell_type": "code",
   "execution_count": 4,
   "metadata": {},
   "outputs": [
    {
     "data": {
      "text/html": [
       "<div>\n",
       "<style scoped>\n",
       "    .dataframe tbody tr th:only-of-type {\n",
       "        vertical-align: middle;\n",
       "    }\n",
       "\n",
       "    .dataframe tbody tr th {\n",
       "        vertical-align: top;\n",
       "    }\n",
       "\n",
       "    .dataframe thead th {\n",
       "        text-align: right;\n",
       "    }\n",
       "</style>\n",
       "<table border=\"1\" class=\"dataframe\">\n",
       "  <thead>\n",
       "    <tr style=\"text-align: right;\">\n",
       "      <th></th>\n",
       "      <th>ID</th>\n",
       "      <th>name</th>\n",
       "      <th>category</th>\n",
       "      <th>main_category</th>\n",
       "      <th>currency</th>\n",
       "      <th>deadline</th>\n",
       "      <th>goal</th>\n",
       "      <th>launched</th>\n",
       "      <th>pledged</th>\n",
       "      <th>state</th>\n",
       "      <th>backers</th>\n",
       "      <th>country</th>\n",
       "      <th>usd pledged</th>\n",
       "      <th>usd_pledged_real</th>\n",
       "      <th>usd_goal_real</th>\n",
       "    </tr>\n",
       "  </thead>\n",
       "  <tbody>\n",
       "    <tr>\n",
       "      <th>0</th>\n",
       "      <td>1000002330</td>\n",
       "      <td>The Songs of Adelaide &amp; Abullah</td>\n",
       "      <td>Poetry</td>\n",
       "      <td>Publishing</td>\n",
       "      <td>GBP</td>\n",
       "      <td>2015-10-09</td>\n",
       "      <td>1000.0</td>\n",
       "      <td>2015-08-11 12:12:28</td>\n",
       "      <td>0.0</td>\n",
       "      <td>failed</td>\n",
       "      <td>0</td>\n",
       "      <td>GB</td>\n",
       "      <td>0.0</td>\n",
       "      <td>0.0</td>\n",
       "      <td>1533.95</td>\n",
       "    </tr>\n",
       "    <tr>\n",
       "      <th>1</th>\n",
       "      <td>1000003930</td>\n",
       "      <td>Greeting From Earth: ZGAC Arts Capsule For ET</td>\n",
       "      <td>Narrative Film</td>\n",
       "      <td>Film &amp; Video</td>\n",
       "      <td>USD</td>\n",
       "      <td>2017-11-01</td>\n",
       "      <td>30000.0</td>\n",
       "      <td>2017-09-02 04:43:57</td>\n",
       "      <td>2421.0</td>\n",
       "      <td>failed</td>\n",
       "      <td>15</td>\n",
       "      <td>US</td>\n",
       "      <td>100.0</td>\n",
       "      <td>2421.0</td>\n",
       "      <td>30000.00</td>\n",
       "    </tr>\n",
       "    <tr>\n",
       "      <th>2</th>\n",
       "      <td>1000004038</td>\n",
       "      <td>Where is Hank?</td>\n",
       "      <td>Narrative Film</td>\n",
       "      <td>Film &amp; Video</td>\n",
       "      <td>USD</td>\n",
       "      <td>2013-02-26</td>\n",
       "      <td>45000.0</td>\n",
       "      <td>2013-01-12 00:20:50</td>\n",
       "      <td>220.0</td>\n",
       "      <td>failed</td>\n",
       "      <td>3</td>\n",
       "      <td>US</td>\n",
       "      <td>220.0</td>\n",
       "      <td>220.0</td>\n",
       "      <td>45000.00</td>\n",
       "    </tr>\n",
       "    <tr>\n",
       "      <th>3</th>\n",
       "      <td>1000007540</td>\n",
       "      <td>ToshiCapital Rekordz Needs Help to Complete Album</td>\n",
       "      <td>Music</td>\n",
       "      <td>Music</td>\n",
       "      <td>USD</td>\n",
       "      <td>2012-04-16</td>\n",
       "      <td>5000.0</td>\n",
       "      <td>2012-03-17 03:24:11</td>\n",
       "      <td>1.0</td>\n",
       "      <td>failed</td>\n",
       "      <td>1</td>\n",
       "      <td>US</td>\n",
       "      <td>1.0</td>\n",
       "      <td>1.0</td>\n",
       "      <td>5000.00</td>\n",
       "    </tr>\n",
       "    <tr>\n",
       "      <th>4</th>\n",
       "      <td>1000011046</td>\n",
       "      <td>Community Film Project: The Art of Neighborhoo...</td>\n",
       "      <td>Film &amp; Video</td>\n",
       "      <td>Film &amp; Video</td>\n",
       "      <td>USD</td>\n",
       "      <td>2015-08-29</td>\n",
       "      <td>19500.0</td>\n",
       "      <td>2015-07-04 08:35:03</td>\n",
       "      <td>1283.0</td>\n",
       "      <td>canceled</td>\n",
       "      <td>14</td>\n",
       "      <td>US</td>\n",
       "      <td>1283.0</td>\n",
       "      <td>1283.0</td>\n",
       "      <td>19500.00</td>\n",
       "    </tr>\n",
       "  </tbody>\n",
       "</table>\n",
       "</div>"
      ],
      "text/plain": [
       "           ID                                               name  \\\n",
       "0  1000002330                    The Songs of Adelaide & Abullah   \n",
       "1  1000003930      Greeting From Earth: ZGAC Arts Capsule For ET   \n",
       "2  1000004038                                     Where is Hank?   \n",
       "3  1000007540  ToshiCapital Rekordz Needs Help to Complete Album   \n",
       "4  1000011046  Community Film Project: The Art of Neighborhoo...   \n",
       "\n",
       "         category main_category currency    deadline     goal  \\\n",
       "0          Poetry    Publishing      GBP  2015-10-09   1000.0   \n",
       "1  Narrative Film  Film & Video      USD  2017-11-01  30000.0   \n",
       "2  Narrative Film  Film & Video      USD  2013-02-26  45000.0   \n",
       "3           Music         Music      USD  2012-04-16   5000.0   \n",
       "4    Film & Video  Film & Video      USD  2015-08-29  19500.0   \n",
       "\n",
       "              launched  pledged     state  backers country  usd pledged  \\\n",
       "0  2015-08-11 12:12:28      0.0    failed        0      GB          0.0   \n",
       "1  2017-09-02 04:43:57   2421.0    failed       15      US        100.0   \n",
       "2  2013-01-12 00:20:50    220.0    failed        3      US        220.0   \n",
       "3  2012-03-17 03:24:11      1.0    failed        1      US          1.0   \n",
       "4  2015-07-04 08:35:03   1283.0  canceled       14      US       1283.0   \n",
       "\n",
       "   usd_pledged_real  usd_goal_real  \n",
       "0               0.0        1533.95  \n",
       "1            2421.0       30000.00  \n",
       "2             220.0       45000.00  \n",
       "3               1.0        5000.00  \n",
       "4            1283.0       19500.00  "
      ]
     },
     "execution_count": 4,
     "metadata": {},
     "output_type": "execute_result"
    }
   ],
   "source": [
    "# GENERAL : Print the top rows and columns of the DataFrame \n",
    "kickstarter.head()"
   ]
  },
  {
   "cell_type": "code",
   "execution_count": 5,
   "metadata": {},
   "outputs": [
    {
     "data": {
      "text/plain": [
       "ID                    int64\n",
       "name                 object\n",
       "category             object\n",
       "main_category        object\n",
       "currency             object\n",
       "deadline             object\n",
       "goal                float64\n",
       "launched             object\n",
       "pledged             float64\n",
       "state                object\n",
       "backers               int64\n",
       "country              object\n",
       "usd pledged         float64\n",
       "usd_pledged_real    float64\n",
       "usd_goal_real       float64\n",
       "dtype: object"
      ]
     },
     "execution_count": 5,
     "metadata": {},
     "output_type": "execute_result"
    }
   ],
   "source": [
    "# DATA TYPES CLEANING \n",
    "#GENERAL : Print the data types of DataFrame\n",
    "kickstarter.dtypes"
   ]
  },
  {
   "cell_type": "code",
   "execution_count": 6,
   "metadata": {},
   "outputs": [
    {
     "data": {
      "text/plain": [
       "ID                           int64\n",
       "name                        object\n",
       "category                    object\n",
       "main_category               object\n",
       "currency                    object\n",
       "deadline            datetime64[ns]\n",
       "goal                       float64\n",
       "launched            datetime64[ns]\n",
       "pledged                    float64\n",
       "state                       object\n",
       "backers                      int64\n",
       "country                     object\n",
       "usd pledged                float64\n",
       "usd_pledged_real           float64\n",
       "usd_goal_real              float64\n",
       "dtype: object"
      ]
     },
     "execution_count": 6,
     "metadata": {},
     "output_type": "execute_result"
    }
   ],
   "source": [
    "# LAUNCHED & DEADLINE : Adjust all data frame to common datetime format\n",
    "kickstarter['deadline'] = pd.to_datetime(kickstarter.deadline)\n",
    "kickstarter['launched'] = pd.to_datetime(kickstarter.launched)\n",
    "\n",
    "\n",
    "# Check if format was changed \n",
    "kickstarter.dtypes"
   ]
  },
  {
   "cell_type": "code",
   "execution_count": 7,
   "metadata": {
    "scrolled": false
   },
   "outputs": [
    {
     "name": "stdout",
     "output_type": "stream",
     "text": [
      "<class 'pandas.core.frame.DataFrame'>\n",
      "RangeIndex: 378661 entries, 0 to 378660\n",
      "Data columns (total 15 columns):\n",
      " #   Column            Non-Null Count   Dtype         \n",
      "---  ------            --------------   -----         \n",
      " 0   ID                378661 non-null  int64         \n",
      " 1   name              378657 non-null  object        \n",
      " 2   category          378661 non-null  object        \n",
      " 3   main_category     378661 non-null  object        \n",
      " 4   currency          378661 non-null  object        \n",
      " 5   deadline          378661 non-null  datetime64[ns]\n",
      " 6   goal              378661 non-null  float64       \n",
      " 7   launched          378661 non-null  datetime64[ns]\n",
      " 8   pledged           378661 non-null  float64       \n",
      " 9   state             378661 non-null  object        \n",
      " 10  backers           378661 non-null  int64         \n",
      " 11  country           378661 non-null  object        \n",
      " 12  usd pledged       374864 non-null  float64       \n",
      " 13  usd_pledged_real  378661 non-null  float64       \n",
      " 14  usd_goal_real     378661 non-null  float64       \n",
      "dtypes: datetime64[ns](2), float64(5), int64(2), object(6)\n",
      "memory usage: 43.3+ MB\n"
     ]
    }
   ],
   "source": [
    "# GENERAL : Print info of DataFrame\n",
    "kickstarter.info()"
   ]
  },
  {
   "cell_type": "markdown",
   "metadata": {},
   "source": [
    "MISSING VALUES ANALYSIS\n",
    "\n",
    "Missing data is in the folowing columns: name, usd pledged.\n",
    "There are a variety of options we can do to solve this problem: \n",
    "\n",
    "     - Dropping missing data (if the data dropped does not impact or skew our data)\n",
    "     - Setting to missing and impute with statistical measures (median, mean, mode ...)\n",
    "     - Imputing with more complex algorithmic/machine learning based approaches\n",
    "     - Impute based on business assumptions of our data\n",
    " \n",
    "name column : it was decided to drop the 4 rows since it is not significant.\n",
    "usd pledged : this column won't be used, instead usd_pledged_real will be used, as well as usd_goal_real to keep consistency. "
   ]
  },
  {
   "cell_type": "code",
   "execution_count": 8,
   "metadata": {},
   "outputs": [
    {
     "data": {
      "text/plain": [
       "ID                     0\n",
       "name                   4\n",
       "category               0\n",
       "main_category          0\n",
       "currency               0\n",
       "deadline               0\n",
       "goal                   0\n",
       "launched               0\n",
       "pledged                0\n",
       "state                  0\n",
       "backers                0\n",
       "country                0\n",
       "usd pledged         3797\n",
       "usd_pledged_real       0\n",
       "usd_goal_real          0\n",
       "dtype: int64"
      ]
     },
     "execution_count": 8,
     "metadata": {},
     "output_type": "execute_result"
    }
   ],
   "source": [
    "# GENERAL : MISSING VALUES ANALYSIS \n",
    "\n",
    "# GENERAL :Print number of missing values  \n",
    "kickstarter.isna().sum()"
   ]
  },
  {
   "cell_type": "code",
   "execution_count": 9,
   "metadata": {},
   "outputs": [
    {
     "name": "stdout",
     "output_type": "stream",
     "text": [
      "Before dropping - 378661 rows\n",
      "After dropping - 378657 rows \n"
     ]
    }
   ],
   "source": [
    "# NAME : DROP NA VALUES \n",
    "\n",
    "print (\"Before dropping - \" + str(len(kickstarter))+ \" rows\")\n",
    "kickstarter = kickstarter[-kickstarter['name'].isna()]\n",
    "\n",
    "print (\"After dropping - \"+ str(len(kickstarter)) + \" rows \")"
   ]
  },
  {
   "cell_type": "code",
   "execution_count": 10,
   "metadata": {},
   "outputs": [
    {
     "data": {
      "text/plain": [
       "ID                     0\n",
       "name                   0\n",
       "category               0\n",
       "main_category          0\n",
       "currency               0\n",
       "deadline               0\n",
       "goal                   0\n",
       "launched               0\n",
       "pledged                0\n",
       "state                  0\n",
       "backers                0\n",
       "country                0\n",
       "usd pledged         3797\n",
       "usd_pledged_real       0\n",
       "usd_goal_real          0\n",
       "dtype: int64"
      ]
     },
     "execution_count": 10,
     "metadata": {},
     "output_type": "execute_result"
    }
   ],
   "source": [
    "#GENERAL : PROVE VALUES WERE DROPPED \n",
    "\n",
    "#GENERAL :Print number of missing values  \n",
    "kickstarter.isna().sum()"
   ]
  },
  {
   "cell_type": "code",
   "execution_count": 12,
   "metadata": {
    "scrolled": true
   },
   "outputs": [
    {
     "data": {
      "text/html": [
       "<div>\n",
       "<style scoped>\n",
       "    .dataframe tbody tr th:only-of-type {\n",
       "        vertical-align: middle;\n",
       "    }\n",
       "\n",
       "    .dataframe tbody tr th {\n",
       "        vertical-align: top;\n",
       "    }\n",
       "\n",
       "    .dataframe thead th {\n",
       "        text-align: right;\n",
       "    }\n",
       "</style>\n",
       "<table border=\"1\" class=\"dataframe\">\n",
       "  <thead>\n",
       "    <tr style=\"text-align: right;\">\n",
       "      <th></th>\n",
       "      <th>ID</th>\n",
       "      <th>name</th>\n",
       "      <th>category</th>\n",
       "      <th>main_category</th>\n",
       "      <th>currency</th>\n",
       "      <th>deadline</th>\n",
       "      <th>goal</th>\n",
       "      <th>launched</th>\n",
       "      <th>pledged</th>\n",
       "      <th>state</th>\n",
       "      <th>backers</th>\n",
       "      <th>country</th>\n",
       "      <th>usd pledged</th>\n",
       "      <th>usd_pledged_real</th>\n",
       "      <th>usd_goal_real</th>\n",
       "    </tr>\n",
       "  </thead>\n",
       "  <tbody>\n",
       "    <tr>\n",
       "      <th>0</th>\n",
       "      <td>1000002330</td>\n",
       "      <td>The Songs of Adelaide &amp; Abullah</td>\n",
       "      <td>Poetry</td>\n",
       "      <td>Publishing</td>\n",
       "      <td>GBP</td>\n",
       "      <td>2015-10-09</td>\n",
       "      <td>1000.0</td>\n",
       "      <td>2015-08-11 12:12:28</td>\n",
       "      <td>0.0</td>\n",
       "      <td>failed</td>\n",
       "      <td>0</td>\n",
       "      <td>GB</td>\n",
       "      <td>0.0</td>\n",
       "      <td>0.0</td>\n",
       "      <td>1533.95</td>\n",
       "    </tr>\n",
       "    <tr>\n",
       "      <th>1</th>\n",
       "      <td>1000003930</td>\n",
       "      <td>Greeting From Earth: ZGAC Arts Capsule For ET</td>\n",
       "      <td>Narrative Film</td>\n",
       "      <td>Film &amp; Video</td>\n",
       "      <td>USD</td>\n",
       "      <td>2017-11-01</td>\n",
       "      <td>30000.0</td>\n",
       "      <td>2017-09-02 04:43:57</td>\n",
       "      <td>2421.0</td>\n",
       "      <td>failed</td>\n",
       "      <td>15</td>\n",
       "      <td>US</td>\n",
       "      <td>100.0</td>\n",
       "      <td>2421.0</td>\n",
       "      <td>30000.00</td>\n",
       "    </tr>\n",
       "    <tr>\n",
       "      <th>2</th>\n",
       "      <td>1000004038</td>\n",
       "      <td>Where is Hank?</td>\n",
       "      <td>Narrative Film</td>\n",
       "      <td>Film &amp; Video</td>\n",
       "      <td>USD</td>\n",
       "      <td>2013-02-26</td>\n",
       "      <td>45000.0</td>\n",
       "      <td>2013-01-12 00:20:50</td>\n",
       "      <td>220.0</td>\n",
       "      <td>failed</td>\n",
       "      <td>3</td>\n",
       "      <td>US</td>\n",
       "      <td>220.0</td>\n",
       "      <td>220.0</td>\n",
       "      <td>45000.00</td>\n",
       "    </tr>\n",
       "    <tr>\n",
       "      <th>3</th>\n",
       "      <td>1000007540</td>\n",
       "      <td>ToshiCapital Rekordz Needs Help to Complete Album</td>\n",
       "      <td>Music</td>\n",
       "      <td>Music</td>\n",
       "      <td>USD</td>\n",
       "      <td>2012-04-16</td>\n",
       "      <td>5000.0</td>\n",
       "      <td>2012-03-17 03:24:11</td>\n",
       "      <td>1.0</td>\n",
       "      <td>failed</td>\n",
       "      <td>1</td>\n",
       "      <td>US</td>\n",
       "      <td>1.0</td>\n",
       "      <td>1.0</td>\n",
       "      <td>5000.00</td>\n",
       "    </tr>\n",
       "    <tr>\n",
       "      <th>4</th>\n",
       "      <td>1000011046</td>\n",
       "      <td>Community Film Project: The Art of Neighborhoo...</td>\n",
       "      <td>Film &amp; Video</td>\n",
       "      <td>Film &amp; Video</td>\n",
       "      <td>USD</td>\n",
       "      <td>2015-08-29</td>\n",
       "      <td>19500.0</td>\n",
       "      <td>2015-07-04 08:35:03</td>\n",
       "      <td>1283.0</td>\n",
       "      <td>canceled</td>\n",
       "      <td>14</td>\n",
       "      <td>US</td>\n",
       "      <td>1283.0</td>\n",
       "      <td>1283.0</td>\n",
       "      <td>19500.00</td>\n",
       "    </tr>\n",
       "    <tr>\n",
       "      <th>...</th>\n",
       "      <td>...</td>\n",
       "      <td>...</td>\n",
       "      <td>...</td>\n",
       "      <td>...</td>\n",
       "      <td>...</td>\n",
       "      <td>...</td>\n",
       "      <td>...</td>\n",
       "      <td>...</td>\n",
       "      <td>...</td>\n",
       "      <td>...</td>\n",
       "      <td>...</td>\n",
       "      <td>...</td>\n",
       "      <td>...</td>\n",
       "      <td>...</td>\n",
       "      <td>...</td>\n",
       "    </tr>\n",
       "    <tr>\n",
       "      <th>378656</th>\n",
       "      <td>999976400</td>\n",
       "      <td>ChknTruk Nationwide Charity Drive 2014 (Canceled)</td>\n",
       "      <td>Documentary</td>\n",
       "      <td>Film &amp; Video</td>\n",
       "      <td>USD</td>\n",
       "      <td>2014-10-17</td>\n",
       "      <td>50000.0</td>\n",
       "      <td>2014-09-17 02:35:30</td>\n",
       "      <td>25.0</td>\n",
       "      <td>canceled</td>\n",
       "      <td>1</td>\n",
       "      <td>US</td>\n",
       "      <td>25.0</td>\n",
       "      <td>25.0</td>\n",
       "      <td>50000.00</td>\n",
       "    </tr>\n",
       "    <tr>\n",
       "      <th>378657</th>\n",
       "      <td>999977640</td>\n",
       "      <td>The Tribe</td>\n",
       "      <td>Narrative Film</td>\n",
       "      <td>Film &amp; Video</td>\n",
       "      <td>USD</td>\n",
       "      <td>2011-07-19</td>\n",
       "      <td>1500.0</td>\n",
       "      <td>2011-06-22 03:35:14</td>\n",
       "      <td>155.0</td>\n",
       "      <td>failed</td>\n",
       "      <td>5</td>\n",
       "      <td>US</td>\n",
       "      <td>155.0</td>\n",
       "      <td>155.0</td>\n",
       "      <td>1500.00</td>\n",
       "    </tr>\n",
       "    <tr>\n",
       "      <th>378658</th>\n",
       "      <td>999986353</td>\n",
       "      <td>Walls of Remedy- New lesbian Romantic Comedy f...</td>\n",
       "      <td>Narrative Film</td>\n",
       "      <td>Film &amp; Video</td>\n",
       "      <td>USD</td>\n",
       "      <td>2010-08-16</td>\n",
       "      <td>15000.0</td>\n",
       "      <td>2010-07-01 19:40:30</td>\n",
       "      <td>20.0</td>\n",
       "      <td>failed</td>\n",
       "      <td>1</td>\n",
       "      <td>US</td>\n",
       "      <td>20.0</td>\n",
       "      <td>20.0</td>\n",
       "      <td>15000.00</td>\n",
       "    </tr>\n",
       "    <tr>\n",
       "      <th>378659</th>\n",
       "      <td>999987933</td>\n",
       "      <td>BioDefense Education Kit</td>\n",
       "      <td>Technology</td>\n",
       "      <td>Technology</td>\n",
       "      <td>USD</td>\n",
       "      <td>2016-02-13</td>\n",
       "      <td>15000.0</td>\n",
       "      <td>2016-01-13 18:13:53</td>\n",
       "      <td>200.0</td>\n",
       "      <td>failed</td>\n",
       "      <td>6</td>\n",
       "      <td>US</td>\n",
       "      <td>200.0</td>\n",
       "      <td>200.0</td>\n",
       "      <td>15000.00</td>\n",
       "    </tr>\n",
       "    <tr>\n",
       "      <th>378660</th>\n",
       "      <td>999988282</td>\n",
       "      <td>Nou Renmen Ayiti!  We Love Haiti!</td>\n",
       "      <td>Performance Art</td>\n",
       "      <td>Art</td>\n",
       "      <td>USD</td>\n",
       "      <td>2011-08-16</td>\n",
       "      <td>2000.0</td>\n",
       "      <td>2011-07-19 09:07:47</td>\n",
       "      <td>524.0</td>\n",
       "      <td>failed</td>\n",
       "      <td>17</td>\n",
       "      <td>US</td>\n",
       "      <td>524.0</td>\n",
       "      <td>524.0</td>\n",
       "      <td>2000.00</td>\n",
       "    </tr>\n",
       "  </tbody>\n",
       "</table>\n",
       "<p>375764 rows × 15 columns</p>\n",
       "</div>"
      ],
      "text/plain": [
       "                ID                                               name  \\\n",
       "0       1000002330                    The Songs of Adelaide & Abullah   \n",
       "1       1000003930      Greeting From Earth: ZGAC Arts Capsule For ET   \n",
       "2       1000004038                                     Where is Hank?   \n",
       "3       1000007540  ToshiCapital Rekordz Needs Help to Complete Album   \n",
       "4       1000011046  Community Film Project: The Art of Neighborhoo...   \n",
       "...            ...                                                ...   \n",
       "378656   999976400  ChknTruk Nationwide Charity Drive 2014 (Canceled)   \n",
       "378657   999977640                                          The Tribe   \n",
       "378658   999986353  Walls of Remedy- New lesbian Romantic Comedy f...   \n",
       "378659   999987933                           BioDefense Education Kit   \n",
       "378660   999988282                  Nou Renmen Ayiti!  We Love Haiti!   \n",
       "\n",
       "               category main_category currency   deadline     goal  \\\n",
       "0                Poetry    Publishing      GBP 2015-10-09   1000.0   \n",
       "1        Narrative Film  Film & Video      USD 2017-11-01  30000.0   \n",
       "2        Narrative Film  Film & Video      USD 2013-02-26  45000.0   \n",
       "3                 Music         Music      USD 2012-04-16   5000.0   \n",
       "4          Film & Video  Film & Video      USD 2015-08-29  19500.0   \n",
       "...                 ...           ...      ...        ...      ...   \n",
       "378656      Documentary  Film & Video      USD 2014-10-17  50000.0   \n",
       "378657   Narrative Film  Film & Video      USD 2011-07-19   1500.0   \n",
       "378658   Narrative Film  Film & Video      USD 2010-08-16  15000.0   \n",
       "378659       Technology    Technology      USD 2016-02-13  15000.0   \n",
       "378660  Performance Art           Art      USD 2011-08-16   2000.0   \n",
       "\n",
       "                  launched  pledged     state  backers country  usd pledged  \\\n",
       "0      2015-08-11 12:12:28      0.0    failed        0      GB          0.0   \n",
       "1      2017-09-02 04:43:57   2421.0    failed       15      US        100.0   \n",
       "2      2013-01-12 00:20:50    220.0    failed        3      US        220.0   \n",
       "3      2012-03-17 03:24:11      1.0    failed        1      US          1.0   \n",
       "4      2015-07-04 08:35:03   1283.0  canceled       14      US       1283.0   \n",
       "...                    ...      ...       ...      ...     ...          ...   \n",
       "378656 2014-09-17 02:35:30     25.0  canceled        1      US         25.0   \n",
       "378657 2011-06-22 03:35:14    155.0    failed        5      US        155.0   \n",
       "378658 2010-07-01 19:40:30     20.0    failed        1      US         20.0   \n",
       "378659 2016-01-13 18:13:53    200.0    failed        6      US        200.0   \n",
       "378660 2011-07-19 09:07:47    524.0    failed       17      US        524.0   \n",
       "\n",
       "        usd_pledged_real  usd_goal_real  \n",
       "0                    0.0        1533.95  \n",
       "1                 2421.0       30000.00  \n",
       "2                  220.0       45000.00  \n",
       "3                    1.0        5000.00  \n",
       "4                 1283.0       19500.00  \n",
       "...                  ...            ...  \n",
       "378656              25.0       50000.00  \n",
       "378657             155.0        1500.00  \n",
       "378658              20.0       15000.00  \n",
       "378659             200.0       15000.00  \n",
       "378660             524.0        2000.00  \n",
       "\n",
       "[375764 rows x 15 columns]"
      ]
     },
     "execution_count": 12,
     "metadata": {},
     "output_type": "execute_result"
    }
   ],
   "source": [
    "#GENERAL : Dropping of duplicate values in ID and name (IF)\n",
    "kickstarter.drop_duplicates(subset=\"ID\")\n",
    "kickstarter.drop_duplicates(subset=\"name\")"
   ]
  },
  {
   "cell_type": "markdown",
   "metadata": {},
   "source": [
    "# EXPLORATORY ANALYSIS (EDA) "
   ]
  },
  {
   "cell_type": "markdown",
   "metadata": {},
   "source": [
    "Druing this stage the purpose of the EDA was focused on the content of this database  : \n",
    "\n",
    "    •\tUnderstanding data properties, distributions, and other characteristics\n",
    "    •\tFinding patterns or relationships, and evaluating basic questions and hypotheses\n",
    "    •\tPlaning modeling in future steps\n",
    "    \n",
    "Important to say that cleaning is an iterating process and through EDA some out-of-the range values came up and we had to clean them in this stage in order to comply with the following logical data thresholds. We iniciated with general description of the dataset and then briefs on each colum.\n",
    "\n",
    "DATA THRESHOLDS \n",
    "\n",
    "    According to Kickstarter, please check : https://www.kickstarter.com/help/handbook/funding\n",
    "      -> funding period : can last anywhere from 1 to 60 days \n",
    "      -> goal : cannot be 0 \n",
    "      -> pledged :  cannot be 0 if sucessfully funded \n",
    "      -> launched: kickstarted began operations in 2009 therere should not be projects before this year \n",
    "      -> deadline : database corresponds to 2018 so there should not be any project beyond this year\n",
    "      \n",
    "SUMMARY OF CHANGES   \n",
    "    * Launched: there were 7 projects with '1970' date that were eliminated    \n",
    "    * Period : the maximum calculated value was 91 days and according to the threshold maximumm value should be 60.\n",
    "    * State : there was a process in which we homogenized the 'state' variable to clean the data set\n",
    "\n",
    "NEW COLUMNS GENERATED\n",
    "\n",
    "     1) Launched_year   ----> goes from 2009 to 2018\n",
    "     2) Launched_month   ----> goes from 1 to 12 according with calendar year\n",
    "     3) Period : deadline - launched     ---> number of days to get funds\n",
    "     4) Funded ratio = amount pledged / goal   ----> % of money raised under/over the goal\n",
    "     \n",
    " \n",
    "SUMMARY OF THE MAIN COLUMNS \n",
    "\n",
    "    (1) Category\n",
    "    (2) Main category\n",
    "    (3) Currency\n",
    "    (4) Launched\n",
    "    (5) Deadline\n",
    "    (6) Period\n",
    "    (7) State\n",
    "    (8) Country\n",
    "    (9) Backers\n",
    "    (10) Funded ratio \n"
   ]
  },
  {
   "cell_type": "code",
   "execution_count": 15,
   "metadata": {
    "scrolled": true
   },
   "outputs": [
    {
     "data": {
      "text/html": [
       "<div>\n",
       "<style scoped>\n",
       "    .dataframe tbody tr th:only-of-type {\n",
       "        vertical-align: middle;\n",
       "    }\n",
       "\n",
       "    .dataframe tbody tr th {\n",
       "        vertical-align: top;\n",
       "    }\n",
       "\n",
       "    .dataframe thead th {\n",
       "        text-align: right;\n",
       "    }\n",
       "</style>\n",
       "<table border=\"1\" class=\"dataframe\">\n",
       "  <thead>\n",
       "    <tr style=\"text-align: right;\">\n",
       "      <th></th>\n",
       "      <th>goal</th>\n",
       "      <th>pledged</th>\n",
       "      <th>usd pledged</th>\n",
       "      <th>usd_pledged_real</th>\n",
       "      <th>usd_goal_real</th>\n",
       "    </tr>\n",
       "  </thead>\n",
       "  <tbody>\n",
       "    <tr>\n",
       "      <th>count</th>\n",
       "      <td>378.657000</td>\n",
       "      <td>378.65700</td>\n",
       "      <td>374.860000</td>\n",
       "      <td>378.657000</td>\n",
       "      <td>378.657000</td>\n",
       "    </tr>\n",
       "    <tr>\n",
       "      <th>mean</th>\n",
       "      <td>49.080677</td>\n",
       "      <td>9.68308</td>\n",
       "      <td>7.036802</td>\n",
       "      <td>9.059018</td>\n",
       "      <td>45.454246</td>\n",
       "    </tr>\n",
       "    <tr>\n",
       "      <th>std</th>\n",
       "      <td>1183.397479</td>\n",
       "      <td>95.63651</td>\n",
       "      <td>78.640162</td>\n",
       "      <td>90.973819</td>\n",
       "      <td>1152.956113</td>\n",
       "    </tr>\n",
       "    <tr>\n",
       "      <th>min</th>\n",
       "      <td>0.000010</td>\n",
       "      <td>0.00000</td>\n",
       "      <td>0.000000</td>\n",
       "      <td>0.000000</td>\n",
       "      <td>0.000010</td>\n",
       "    </tr>\n",
       "    <tr>\n",
       "      <th>25%</th>\n",
       "      <td>2.000000</td>\n",
       "      <td>0.03000</td>\n",
       "      <td>0.016980</td>\n",
       "      <td>0.031000</td>\n",
       "      <td>2.000000</td>\n",
       "    </tr>\n",
       "    <tr>\n",
       "      <th>50%</th>\n",
       "      <td>5.200000</td>\n",
       "      <td>0.62000</td>\n",
       "      <td>0.394765</td>\n",
       "      <td>0.624380</td>\n",
       "      <td>5.500000</td>\n",
       "    </tr>\n",
       "    <tr>\n",
       "      <th>75%</th>\n",
       "      <td>16.000000</td>\n",
       "      <td>4.07600</td>\n",
       "      <td>3.034425</td>\n",
       "      <td>4.050000</td>\n",
       "      <td>15.500000</td>\n",
       "    </tr>\n",
       "    <tr>\n",
       "      <th>max</th>\n",
       "      <td>100000.000000</td>\n",
       "      <td>20338.98627</td>\n",
       "      <td>20338.986270</td>\n",
       "      <td>20338.986270</td>\n",
       "      <td>166361.390710</td>\n",
       "    </tr>\n",
       "  </tbody>\n",
       "</table>\n",
       "</div>"
      ],
      "text/plain": [
       "                goal      pledged   usd pledged  usd_pledged_real  \\\n",
       "count     378.657000    378.65700    374.860000        378.657000   \n",
       "mean       49.080677      9.68308      7.036802          9.059018   \n",
       "std      1183.397479     95.63651     78.640162         90.973819   \n",
       "min         0.000010      0.00000      0.000000          0.000000   \n",
       "25%         2.000000      0.03000      0.016980          0.031000   \n",
       "50%         5.200000      0.62000      0.394765          0.624380   \n",
       "75%        16.000000      4.07600      3.034425          4.050000   \n",
       "max    100000.000000  20338.98627  20338.986270      20338.986270   \n",
       "\n",
       "       usd_goal_real  \n",
       "count     378.657000  \n",
       "mean       45.454246  \n",
       "std      1152.956113  \n",
       "min         0.000010  \n",
       "25%         2.000000  \n",
       "50%         5.500000  \n",
       "75%        15.500000  \n",
       "max    166361.390710  "
      ]
     },
     "execution_count": 15,
     "metadata": {},
     "output_type": "execute_result"
    }
   ],
   "source": [
    "# GENERAL : Description of columns in USD thousands so it gets easier to understand\n",
    "kickstarter.describe(include='float64')/1000"
   ]
  },
  {
   "cell_type": "code",
   "execution_count": 16,
   "metadata": {},
   "outputs": [
    {
     "data": {
      "text/html": [
       "<div>\n",
       "<style scoped>\n",
       "    .dataframe tbody tr th:only-of-type {\n",
       "        vertical-align: middle;\n",
       "    }\n",
       "\n",
       "    .dataframe tbody tr th {\n",
       "        vertical-align: top;\n",
       "    }\n",
       "\n",
       "    .dataframe thead th {\n",
       "        text-align: right;\n",
       "    }\n",
       "</style>\n",
       "<table border=\"1\" class=\"dataframe\">\n",
       "  <thead>\n",
       "    <tr style=\"text-align: right;\">\n",
       "      <th></th>\n",
       "      <th>deadline</th>\n",
       "      <th>launched</th>\n",
       "    </tr>\n",
       "  </thead>\n",
       "  <tbody>\n",
       "    <tr>\n",
       "      <th>count</th>\n",
       "      <td>378657</td>\n",
       "      <td>378657</td>\n",
       "    </tr>\n",
       "    <tr>\n",
       "      <th>unique</th>\n",
       "      <td>3164</td>\n",
       "      <td>378085</td>\n",
       "    </tr>\n",
       "    <tr>\n",
       "      <th>top</th>\n",
       "      <td>2014-08-08 00:00:00</td>\n",
       "      <td>1970-01-01 01:00:00</td>\n",
       "    </tr>\n",
       "    <tr>\n",
       "      <th>freq</th>\n",
       "      <td>705</td>\n",
       "      <td>7</td>\n",
       "    </tr>\n",
       "    <tr>\n",
       "      <th>first</th>\n",
       "      <td>2009-05-03 00:00:00</td>\n",
       "      <td>1970-01-01 01:00:00</td>\n",
       "    </tr>\n",
       "    <tr>\n",
       "      <th>last</th>\n",
       "      <td>2018-03-03 00:00:00</td>\n",
       "      <td>2018-01-02 15:02:31</td>\n",
       "    </tr>\n",
       "  </tbody>\n",
       "</table>\n",
       "</div>"
      ],
      "text/plain": [
       "                   deadline             launched\n",
       "count                378657               378657\n",
       "unique                 3164               378085\n",
       "top     2014-08-08 00:00:00  1970-01-01 01:00:00\n",
       "freq                    705                    7\n",
       "first   2009-05-03 00:00:00  1970-01-01 01:00:00\n",
       "last    2018-03-03 00:00:00  2018-01-02 15:02:31"
      ]
     },
     "execution_count": 16,
     "metadata": {},
     "output_type": "execute_result"
    }
   ],
   "source": [
    "# GENERAL : Description of columns in datetimes\n",
    "kickstarter.describe(include= 'datetime64[ns]')"
   ]
  },
  {
   "cell_type": "code",
   "execution_count": 17,
   "metadata": {},
   "outputs": [
    {
     "data": {
      "text/html": [
       "<div>\n",
       "<style scoped>\n",
       "    .dataframe tbody tr th:only-of-type {\n",
       "        vertical-align: middle;\n",
       "    }\n",
       "\n",
       "    .dataframe tbody tr th {\n",
       "        vertical-align: top;\n",
       "    }\n",
       "\n",
       "    .dataframe thead th {\n",
       "        text-align: right;\n",
       "    }\n",
       "</style>\n",
       "<table border=\"1\" class=\"dataframe\">\n",
       "  <thead>\n",
       "    <tr style=\"text-align: right;\">\n",
       "      <th></th>\n",
       "      <th>name</th>\n",
       "      <th>category</th>\n",
       "      <th>main_category</th>\n",
       "      <th>currency</th>\n",
       "      <th>state</th>\n",
       "      <th>country</th>\n",
       "    </tr>\n",
       "  </thead>\n",
       "  <tbody>\n",
       "    <tr>\n",
       "      <th>count</th>\n",
       "      <td>378657</td>\n",
       "      <td>378657</td>\n",
       "      <td>378657</td>\n",
       "      <td>378657</td>\n",
       "      <td>378657</td>\n",
       "      <td>378657</td>\n",
       "    </tr>\n",
       "    <tr>\n",
       "      <th>unique</th>\n",
       "      <td>375764</td>\n",
       "      <td>159</td>\n",
       "      <td>15</td>\n",
       "      <td>14</td>\n",
       "      <td>6</td>\n",
       "      <td>23</td>\n",
       "    </tr>\n",
       "    <tr>\n",
       "      <th>top</th>\n",
       "      <td>New EP/Music Development</td>\n",
       "      <td>Product Design</td>\n",
       "      <td>Film &amp; Video</td>\n",
       "      <td>USD</td>\n",
       "      <td>failed</td>\n",
       "      <td>US</td>\n",
       "    </tr>\n",
       "    <tr>\n",
       "      <th>freq</th>\n",
       "      <td>41</td>\n",
       "      <td>22313</td>\n",
       "      <td>63584</td>\n",
       "      <td>295362</td>\n",
       "      <td>197716</td>\n",
       "      <td>292624</td>\n",
       "    </tr>\n",
       "  </tbody>\n",
       "</table>\n",
       "</div>"
      ],
      "text/plain": [
       "                            name        category main_category currency  \\\n",
       "count                     378657          378657        378657   378657   \n",
       "unique                    375764             159            15       14   \n",
       "top     New EP/Music Development  Product Design  Film & Video      USD   \n",
       "freq                          41           22313         63584   295362   \n",
       "\n",
       "         state country  \n",
       "count   378657  378657  \n",
       "unique       6      23  \n",
       "top     failed      US  \n",
       "freq    197716  292624  "
      ]
     },
     "execution_count": 17,
     "metadata": {},
     "output_type": "execute_result"
    }
   ],
   "source": [
    "# GENERAL : Description of columns in text \n",
    "kickstarter.describe(include= 'object')"
   ]
  },
  {
   "cell_type": "markdown",
   "metadata": {},
   "source": [
    "(1)  CATEGORY : \n",
    "\n",
    "    There are 159 categories, the most frequent one is 'Product Design' with 5.9%, followed by 'Documentary' with 4.3% and 'Music' 4.2%. Since the column contains a lot of variables it mught not help the model to be parsimonious therefore it shall not be consider into the prediction."
   ]
  },
  {
   "cell_type": "code",
   "execution_count": 18,
   "metadata": {
    "scrolled": true
   },
   "outputs": [
    {
     "data": {
      "text/plain": [
       "array(['Poetry', 'Narrative Film', 'Music', 'Film & Video', 'Restaurants',\n",
       "       'Food', 'Drinks', 'Product Design', 'Documentary', 'Nonfiction',\n",
       "       'Indie Rock', 'Crafts', 'Games', 'Tabletop Games', 'Design',\n",
       "       'Comic Books', 'Art Books', 'Fashion', 'Childrenswear', 'Theater',\n",
       "       'Comics', 'DIY', 'Webseries', 'Animation', 'Food Trucks',\n",
       "       'Public Art', 'Illustration', 'Photography', 'Pop', 'People',\n",
       "       'Art', 'Family', 'Fiction', 'Accessories', 'Rock', 'Hardware',\n",
       "       'Software', 'Weaving', 'Gadgets', 'Web', 'Jazz', 'Ready-to-wear',\n",
       "       'Festivals', 'Video Games', 'Anthologies', 'Publishing', 'Shorts',\n",
       "       'Electronic Music', 'Radio & Podcasts', 'Apps', 'Cookbooks',\n",
       "       'Apparel', 'Metal', 'Comedy', 'Hip-Hop', 'Periodicals', 'Dance',\n",
       "       'Technology', 'Painting', 'World Music', 'Photobooks', 'Drama',\n",
       "       'Architecture', 'Young Adult', 'Latin', 'Mobile Games', 'Flight',\n",
       "       'Fine Art', 'Action', 'Playing Cards', 'Makerspaces', 'Punk',\n",
       "       'Thrillers', \"Children's Books\", 'Audio', 'Performance Art',\n",
       "       'Ceramics', 'Vegan', 'Graphic Novels', 'Fabrication Tools',\n",
       "       'Performances', 'Sculpture', 'Sound', 'Stationery', 'Print',\n",
       "       \"Farmer's Markets\", 'Events', 'Classical Music', 'Graphic Design',\n",
       "       'Spaces', 'Country & Folk', 'Wearables', 'Mixed Media',\n",
       "       'Journalism', 'Movie Theaters', 'Animals', 'Digital Art', 'Horror',\n",
       "       'Knitting', 'Small Batch', 'Installations', 'Community Gardens',\n",
       "       'DIY Electronics', 'Embroidery', 'Camera Equipment', 'Jewelry',\n",
       "       'Farms', 'Conceptual Art', 'Fantasy', 'Webcomics', 'Experimental',\n",
       "       'Science Fiction', 'Puzzles', 'R&B', 'Music Videos', 'Calendars',\n",
       "       'Video', 'Plays', 'Blues', 'Bacon', 'Faith', 'Live Games',\n",
       "       'Woodworking', 'Places', 'Footwear', '3D Printing', 'Academic',\n",
       "       'Zines', 'Musical', 'Workshops', 'Photo', 'Immersive',\n",
       "       'Letterpress', 'Gaming Hardware', 'Candles', 'Television',\n",
       "       'Space Exploration', 'Couture', 'Nature', 'Robots', 'Typography',\n",
       "       'Crochet', 'Translations', 'Textiles', 'Pottery',\n",
       "       'Interactive Design', 'Video Art', 'Quilts', 'Glass',\n",
       "       'Pet Fashion', 'Printing', 'Romance', 'Civic Design', 'Kids',\n",
       "       'Literary Journals', 'Taxidermy', 'Literary Spaces', 'Chiptune',\n",
       "       'Residencies'], dtype=object)"
      ]
     },
     "execution_count": 18,
     "metadata": {},
     "output_type": "execute_result"
    }
   ],
   "source": [
    "# GENERAL : Find number of unique values in 'category' column \n",
    "kickstarter['category'].unique()\n"
   ]
  },
  {
   "cell_type": "code",
   "execution_count": 19,
   "metadata": {
    "scrolled": true
   },
   "outputs": [
    {
     "data": {
      "text/html": [
       "<div>\n",
       "<style scoped>\n",
       "    .dataframe tbody tr th:only-of-type {\n",
       "        vertical-align: middle;\n",
       "    }\n",
       "\n",
       "    .dataframe tbody tr th {\n",
       "        vertical-align: top;\n",
       "    }\n",
       "\n",
       "    .dataframe thead th {\n",
       "        text-align: right;\n",
       "    }\n",
       "</style>\n",
       "<table border=\"1\" class=\"dataframe\">\n",
       "  <thead>\n",
       "    <tr style=\"text-align: right;\">\n",
       "      <th></th>\n",
       "      <th>counts</th>\n",
       "      <th>percent</th>\n",
       "    </tr>\n",
       "  </thead>\n",
       "  <tbody>\n",
       "    <tr>\n",
       "      <th>Product Design</th>\n",
       "      <td>22313</td>\n",
       "      <td>5.9%</td>\n",
       "    </tr>\n",
       "    <tr>\n",
       "      <th>Documentary</th>\n",
       "      <td>16139</td>\n",
       "      <td>4.3%</td>\n",
       "    </tr>\n",
       "    <tr>\n",
       "      <th>Music</th>\n",
       "      <td>15727</td>\n",
       "      <td>4.2%</td>\n",
       "    </tr>\n",
       "    <tr>\n",
       "      <th>Tabletop Games</th>\n",
       "      <td>14180</td>\n",
       "      <td>3.7%</td>\n",
       "    </tr>\n",
       "    <tr>\n",
       "      <th>Shorts</th>\n",
       "      <td>12357</td>\n",
       "      <td>3.3%</td>\n",
       "    </tr>\n",
       "    <tr>\n",
       "      <th>...</th>\n",
       "      <td>...</td>\n",
       "      <td>...</td>\n",
       "    </tr>\n",
       "    <tr>\n",
       "      <th>Residencies</th>\n",
       "      <td>69</td>\n",
       "      <td>0.0%</td>\n",
       "    </tr>\n",
       "    <tr>\n",
       "      <th>Letterpress</th>\n",
       "      <td>49</td>\n",
       "      <td>0.0%</td>\n",
       "    </tr>\n",
       "    <tr>\n",
       "      <th>Chiptune</th>\n",
       "      <td>35</td>\n",
       "      <td>0.0%</td>\n",
       "    </tr>\n",
       "    <tr>\n",
       "      <th>Literary Spaces</th>\n",
       "      <td>27</td>\n",
       "      <td>0.0%</td>\n",
       "    </tr>\n",
       "    <tr>\n",
       "      <th>Taxidermy</th>\n",
       "      <td>13</td>\n",
       "      <td>0.0%</td>\n",
       "    </tr>\n",
       "  </tbody>\n",
       "</table>\n",
       "<p>159 rows × 2 columns</p>\n",
       "</div>"
      ],
      "text/plain": [
       "                 counts percent\n",
       "Product Design    22313    5.9%\n",
       "Documentary       16139    4.3%\n",
       "Music             15727    4.2%\n",
       "Tabletop Games    14180    3.7%\n",
       "Shorts            12357    3.3%\n",
       "...                 ...     ...\n",
       "Residencies          69    0.0%\n",
       "Letterpress          49    0.0%\n",
       "Chiptune             35    0.0%\n",
       "Literary Spaces      27    0.0%\n",
       "Taxidermy            13    0.0%\n",
       "\n",
       "[159 rows x 2 columns]"
      ]
     },
     "execution_count": 19,
     "metadata": {},
     "output_type": "execute_result"
    }
   ],
   "source": [
    "# CATEGORY : How many values of different categories do we have? \n",
    "category_counts = kickstarter ['category'].value_counts()\n",
    "category_percent = kickstarter.category.value_counts(normalize=True).mul(100).round(1).astype(str)+'%'\n",
    "pd.DataFrame({'counts':category_counts,'percent': category_percent})"
   ]
  },
  {
   "cell_type": "markdown",
   "metadata": {},
   "source": [
    "(2) MAIN CATEGORY : \n",
    "    \n",
    "    There are 15 types of 'main categories', as you might see below, most of the projects belong to : \n",
    "    Film & Video (16.8%), Music (13.7%), Publishing (10.5%),Games (9.3%), Technology (8.6%)and Design (7.9%). \n",
    "        \n",
    "    There is a normalization process we shall do in order to forecast the probability of getting funds depending on each category .  "
   ]
  },
  {
   "cell_type": "code",
   "execution_count": 20,
   "metadata": {},
   "outputs": [
    {
     "data": {
      "text/html": [
       "<div>\n",
       "<style scoped>\n",
       "    .dataframe tbody tr th:only-of-type {\n",
       "        vertical-align: middle;\n",
       "    }\n",
       "\n",
       "    .dataframe tbody tr th {\n",
       "        vertical-align: top;\n",
       "    }\n",
       "\n",
       "    .dataframe thead th {\n",
       "        text-align: right;\n",
       "    }\n",
       "</style>\n",
       "<table border=\"1\" class=\"dataframe\">\n",
       "  <thead>\n",
       "    <tr style=\"text-align: right;\">\n",
       "      <th></th>\n",
       "      <th>counts</th>\n",
       "      <th>percent</th>\n",
       "    </tr>\n",
       "  </thead>\n",
       "  <tbody>\n",
       "    <tr>\n",
       "      <th>Film &amp; Video</th>\n",
       "      <td>63584</td>\n",
       "      <td>16.8%</td>\n",
       "    </tr>\n",
       "    <tr>\n",
       "      <th>Music</th>\n",
       "      <td>51918</td>\n",
       "      <td>13.7%</td>\n",
       "    </tr>\n",
       "    <tr>\n",
       "      <th>Publishing</th>\n",
       "      <td>39874</td>\n",
       "      <td>10.5%</td>\n",
       "    </tr>\n",
       "    <tr>\n",
       "      <th>Games</th>\n",
       "      <td>35230</td>\n",
       "      <td>9.3%</td>\n",
       "    </tr>\n",
       "    <tr>\n",
       "      <th>Technology</th>\n",
       "      <td>32569</td>\n",
       "      <td>8.6%</td>\n",
       "    </tr>\n",
       "    <tr>\n",
       "      <th>Design</th>\n",
       "      <td>30069</td>\n",
       "      <td>7.9%</td>\n",
       "    </tr>\n",
       "    <tr>\n",
       "      <th>Art</th>\n",
       "      <td>28152</td>\n",
       "      <td>7.4%</td>\n",
       "    </tr>\n",
       "    <tr>\n",
       "      <th>Food</th>\n",
       "      <td>24602</td>\n",
       "      <td>6.5%</td>\n",
       "    </tr>\n",
       "    <tr>\n",
       "      <th>Fashion</th>\n",
       "      <td>22816</td>\n",
       "      <td>6.0%</td>\n",
       "    </tr>\n",
       "    <tr>\n",
       "      <th>Theater</th>\n",
       "      <td>10913</td>\n",
       "      <td>2.9%</td>\n",
       "    </tr>\n",
       "    <tr>\n",
       "      <th>Comics</th>\n",
       "      <td>10819</td>\n",
       "      <td>2.9%</td>\n",
       "    </tr>\n",
       "    <tr>\n",
       "      <th>Photography</th>\n",
       "      <td>10779</td>\n",
       "      <td>2.8%</td>\n",
       "    </tr>\n",
       "    <tr>\n",
       "      <th>Crafts</th>\n",
       "      <td>8809</td>\n",
       "      <td>2.3%</td>\n",
       "    </tr>\n",
       "    <tr>\n",
       "      <th>Journalism</th>\n",
       "      <td>4755</td>\n",
       "      <td>1.3%</td>\n",
       "    </tr>\n",
       "    <tr>\n",
       "      <th>Dance</th>\n",
       "      <td>3768</td>\n",
       "      <td>1.0%</td>\n",
       "    </tr>\n",
       "  </tbody>\n",
       "</table>\n",
       "</div>"
      ],
      "text/plain": [
       "              counts percent\n",
       "Film & Video   63584   16.8%\n",
       "Music          51918   13.7%\n",
       "Publishing     39874   10.5%\n",
       "Games          35230    9.3%\n",
       "Technology     32569    8.6%\n",
       "Design         30069    7.9%\n",
       "Art            28152    7.4%\n",
       "Food           24602    6.5%\n",
       "Fashion        22816    6.0%\n",
       "Theater        10913    2.9%\n",
       "Comics         10819    2.9%\n",
       "Photography    10779    2.8%\n",
       "Crafts          8809    2.3%\n",
       "Journalism      4755    1.3%\n",
       "Dance           3768    1.0%"
      ]
     },
     "execution_count": 20,
     "metadata": {},
     "output_type": "execute_result"
    }
   ],
   "source": [
    "# MAIN CATEGORY : How many values of different main categories do we have? \n",
    "main_category_counts = kickstarter ['main_category'].value_counts()\n",
    "main_category_percent = kickstarter.main_category.value_counts(normalize=True).mul(100).round(1).astype(str)+'%'\n",
    "pd.DataFrame({'counts':main_category_counts,'percent': main_category_percent})"
   ]
  },
  {
   "cell_type": "code",
   "execution_count": 21,
   "metadata": {},
   "outputs": [
    {
     "data": {
      "text/plain": [
       "<matplotlib.axes._subplots.AxesSubplot at 0x1a252abfd0>"
      ]
     },
     "execution_count": 21,
     "metadata": {},
     "output_type": "execute_result"
    },
    {
     "data": {
      "image/png": "[encoded data removed]",
      "text/plain": [
       "<Figure size 432x288 with 1 Axes>"
      ]
     },
     "metadata": {
      "needs_background": "light"
     },
     "output_type": "display_data"
    }
   ],
   "source": [
    " # MAIN CATEGORY : Plot main categories \n",
    "\n",
    "kickstarter['main_category'].value_counts().plot.bar(title='Projects by maincategory')"
   ]
  },
  {
   "cell_type": "raw",
   "metadata": {},
   "source": [
    "(3) CURRENCY \n",
    "\n",
    "Most of the projects were backed in USD Dollars (78%) , then GBP (9.0%), EUR (4.6%), CAD (4.0%) and AUD (2.1%)\n",
    "\n",
    "therefore a transformation (normalization or standarization) process shald be carried on. "
   ]
  },
  {
   "cell_type": "code",
   "execution_count": 22,
   "metadata": {},
   "outputs": [
    {
     "data": {
      "text/html": [
       "<div>\n",
       "<style scoped>\n",
       "    .dataframe tbody tr th:only-of-type {\n",
       "        vertical-align: middle;\n",
       "    }\n",
       "\n",
       "    .dataframe tbody tr th {\n",
       "        vertical-align: top;\n",
       "    }\n",
       "\n",
       "    .dataframe thead th {\n",
       "        text-align: right;\n",
       "    }\n",
       "</style>\n",
       "<table border=\"1\" class=\"dataframe\">\n",
       "  <thead>\n",
       "    <tr style=\"text-align: right;\">\n",
       "      <th></th>\n",
       "      <th>counts</th>\n",
       "      <th>percent</th>\n",
       "    </tr>\n",
       "  </thead>\n",
       "  <tbody>\n",
       "    <tr>\n",
       "      <th>USD</th>\n",
       "      <td>295362</td>\n",
       "      <td>78.0%</td>\n",
       "    </tr>\n",
       "    <tr>\n",
       "      <th>GBP</th>\n",
       "      <td>34131</td>\n",
       "      <td>9.0%</td>\n",
       "    </tr>\n",
       "    <tr>\n",
       "      <th>EUR</th>\n",
       "      <td>17405</td>\n",
       "      <td>4.6%</td>\n",
       "    </tr>\n",
       "    <tr>\n",
       "      <th>CAD</th>\n",
       "      <td>14962</td>\n",
       "      <td>4.0%</td>\n",
       "    </tr>\n",
       "    <tr>\n",
       "      <th>AUD</th>\n",
       "      <td>7950</td>\n",
       "      <td>2.1%</td>\n",
       "    </tr>\n",
       "    <tr>\n",
       "      <th>SEK</th>\n",
       "      <td>1788</td>\n",
       "      <td>0.5%</td>\n",
       "    </tr>\n",
       "    <tr>\n",
       "      <th>MXN</th>\n",
       "      <td>1752</td>\n",
       "      <td>0.5%</td>\n",
       "    </tr>\n",
       "    <tr>\n",
       "      <th>NZD</th>\n",
       "      <td>1475</td>\n",
       "      <td>0.4%</td>\n",
       "    </tr>\n",
       "    <tr>\n",
       "      <th>DKK</th>\n",
       "      <td>1129</td>\n",
       "      <td>0.3%</td>\n",
       "    </tr>\n",
       "    <tr>\n",
       "      <th>CHF</th>\n",
       "      <td>768</td>\n",
       "      <td>0.2%</td>\n",
       "    </tr>\n",
       "    <tr>\n",
       "      <th>NOK</th>\n",
       "      <td>722</td>\n",
       "      <td>0.2%</td>\n",
       "    </tr>\n",
       "    <tr>\n",
       "      <th>HKD</th>\n",
       "      <td>618</td>\n",
       "      <td>0.2%</td>\n",
       "    </tr>\n",
       "    <tr>\n",
       "      <th>SGD</th>\n",
       "      <td>555</td>\n",
       "      <td>0.1%</td>\n",
       "    </tr>\n",
       "    <tr>\n",
       "      <th>JPY</th>\n",
       "      <td>40</td>\n",
       "      <td>0.0%</td>\n",
       "    </tr>\n",
       "  </tbody>\n",
       "</table>\n",
       "</div>"
      ],
      "text/plain": [
       "     counts percent\n",
       "USD  295362   78.0%\n",
       "GBP   34131    9.0%\n",
       "EUR   17405    4.6%\n",
       "CAD   14962    4.0%\n",
       "AUD    7950    2.1%\n",
       "SEK    1788    0.5%\n",
       "MXN    1752    0.5%\n",
       "NZD    1475    0.4%\n",
       "DKK    1129    0.3%\n",
       "CHF     768    0.2%\n",
       "NOK     722    0.2%\n",
       "HKD     618    0.2%\n",
       "SGD     555    0.1%\n",
       "JPY      40    0.0%"
      ]
     },
     "execution_count": 22,
     "metadata": {},
     "output_type": "execute_result"
    }
   ],
   "source": [
    "# CURRENCY : How many values of currency do we have? \n",
    "\n",
    "currency_counts = kickstarter ['currency'].value_counts()\n",
    "currency_percent = kickstarter.currency.value_counts(normalize=True).mul(100).round(1).astype(str)+'%'\n",
    "pd.DataFrame({'counts':currency_counts,'percent': currency_percent})"
   ]
  },
  {
   "cell_type": "code",
   "execution_count": 23,
   "metadata": {},
   "outputs": [
    {
     "data": {
      "text/plain": [
       "<matplotlib.axes._subplots.AxesSubplot at 0x1a23a14fd0>"
      ]
     },
     "execution_count": 23,
     "metadata": {},
     "output_type": "execute_result"
    },
    {
     "data": {
      "image/png": "[encoded data removed]",
      "text/plain": [
       "<Figure size 432x288 with 1 Axes>"
      ]
     },
     "metadata": {
      "needs_background": "light"
     },
     "output_type": "display_data"
    }
   ],
   "source": [
    "# CURRENCY: Plot projects by currency \n",
    "kickstarter['currency'].value_counts().plot.bar(title='Projects by currency')"
   ]
  },
  {
   "cell_type": "raw",
   "metadata": {},
   "source": [
    "(4) LAUNCHED \n",
    "\n",
    "There was an error of 7 registers launching date that was corrected. The first project of the data set was launched on April 21th, 2009 and the last one was launched on January 2nd, 2018. \n",
    "\n",
    "Projects launched by year were abnormal in 2009 and 2018 since we do not have complete months, for the rest of the years : \n",
    "\n",
    "The year with more information is 2015 with 77,130 projects , followed by 2014 with 67,745 projects launched. The complete years with the least projects launched is 2010 with 10,519 projects and it might be because the platform was only a year ahead of its foundation.\n"
   ]
  },
  {
   "cell_type": "code",
   "execution_count": 24,
   "metadata": {},
   "outputs": [
    {
     "data": {
      "text/plain": [
       "94579    1970-01-01 01:00:00\n",
       "48147    1970-01-01 01:00:00\n",
       "273779   1970-01-01 01:00:00\n",
       "2842     1970-01-01 01:00:00\n",
       "75397    1970-01-01 01:00:00\n",
       "319002   1970-01-01 01:00:00\n",
       "247913   1970-01-01 01:00:00\n",
       "169268   2009-04-21 21:02:48\n",
       "322000   2009-04-23 00:07:53\n",
       "138572   2009-04-24 21:52:03\n",
       "Name: launched, dtype: datetime64[ns]"
      ]
     },
     "execution_count": 24,
     "metadata": {},
     "output_type": "execute_result"
    }
   ],
   "source": [
    "# LAUNCHED : When was the first project launched ? \n",
    "kickstarter['launched'].sort_values().head(10)"
   ]
  },
  {
   "cell_type": "code",
   "execution_count": 25,
   "metadata": {},
   "outputs": [],
   "source": [
    "# LAUNCHED = outcome shows an error since Kickstarter was launched way after 1970\n",
    "# Since outliers are not that significant they will be deleted \n",
    "\n",
    "kickstarter['launched_year'] = kickstarter['launched'].dt.year\n",
    "kickstarter.head()\n",
    "kickstarter = kickstarter.drop(kickstarter[(kickstarter.launched_year == 1970)].index)\n"
   ]
  },
  {
   "cell_type": "code",
   "execution_count": 26,
   "metadata": {},
   "outputs": [
    {
     "data": {
      "text/plain": [
       "169268   2009-04-21 21:02:48\n",
       "322000   2009-04-23 00:07:53\n",
       "138572   2009-04-24 21:52:03\n",
       "325391   2009-04-25 17:36:21\n",
       "122662   2009-04-27 14:10:39\n",
       "213711   2009-04-28 13:55:41\n",
       "345606   2009-04-29 02:04:21\n",
       "235255   2009-04-29 02:58:50\n",
       "98954    2009-04-29 04:37:37\n",
       "342226   2009-04-29 05:26:32\n",
       "Name: launched, dtype: datetime64[ns]"
      ]
     },
     "execution_count": 26,
     "metadata": {},
     "output_type": "execute_result"
    }
   ],
   "source": [
    "# LAUNCHED : Check if error was properly corrected\n",
    "kickstarter['launched'].sort_values().head(10)"
   ]
  },
  {
   "cell_type": "code",
   "execution_count": 27,
   "metadata": {
    "scrolled": true
   },
   "outputs": [
    {
     "data": {
      "text/plain": [
       "66683    2018-01-02 15:02:31\n",
       "163161   2018-01-02 14:38:17\n",
       "217150   2018-01-02 14:17:46\n",
       "373787   2018-01-02 14:15:38\n",
       "95778    2018-01-02 14:13:09\n",
       "100061   2018-01-02 14:07:02\n",
       "275919   2018-01-02 14:04:11\n",
       "340295   2018-01-02 13:11:02\n",
       "236590   2018-01-02 13:02:29\n",
       "125582   2018-01-02 12:45:34\n",
       "Name: launched, dtype: datetime64[ns]"
      ]
     },
     "execution_count": 27,
     "metadata": {},
     "output_type": "execute_result"
    }
   ],
   "source": [
    "# LAUNCHED : When was the last project launched ?\n",
    "kickstarter['launched'].sort_values(ascending = False).head(10)"
   ]
  },
  {
   "cell_type": "code",
   "execution_count": 28,
   "metadata": {
    "scrolled": true
   },
   "outputs": [
    {
     "data": {
      "text/plain": [
       "2015    77300\n",
       "2014    67745\n",
       "2016    57183\n",
       "2017    52200\n",
       "2013    44851\n",
       "2012    41163\n",
       "2011    26236\n",
       "2010    10519\n",
       "2009     1329\n",
       "2018      124\n",
       "Name: launched_year, dtype: int64"
      ]
     },
     "execution_count": 28,
     "metadata": {},
     "output_type": "execute_result"
    }
   ],
   "source": [
    "#How many projects were launched by year? \n",
    "kickstarter['launched_year'].value_counts()"
   ]
  },
  {
   "cell_type": "code",
   "execution_count": 29,
   "metadata": {},
   "outputs": [
    {
     "data": {
      "text/plain": [
       "<matplotlib.axes._subplots.AxesSubplot at 0x1a247731d0>"
      ]
     },
     "execution_count": 29,
     "metadata": {},
     "output_type": "execute_result"
    },
    {
     "data": {
      "image/png": "[encoded data removed]",
      "text/plain": [
       "<Figure size 432x288 with 1 Axes>"
      ]
     },
     "metadata": {
      "needs_background": "light"
     },
     "output_type": "display_data"
    }
   ],
   "source": [
    "#This is the visual exploration of projects launched by year\n",
    "\n",
    "kickstarter['launched_year'].value_counts().plot.bar(title='Projects by year')"
   ]
  },
  {
   "cell_type": "raw",
   "metadata": {},
   "source": [
    "(5) DEADLINE\n",
    "\n",
    "The first deadline was in May 2009th and the last deadline was in March 2018."
   ]
  },
  {
   "cell_type": "code",
   "execution_count": 30,
   "metadata": {},
   "outputs": [
    {
     "data": {
      "text/plain": [
       "138572   2009-05-03\n",
       "213711   2009-05-16\n",
       "342226   2009-05-16\n",
       "28960    2009-05-20\n",
       "196244   2009-05-22\n",
       "122662   2009-05-26\n",
       "345606   2009-05-29\n",
       "235255   2009-05-29\n",
       "148270   2009-05-29\n",
       "113932   2009-05-31\n",
       "Name: deadline, dtype: datetime64[ns]"
      ]
     },
     "execution_count": 30,
     "metadata": {},
     "output_type": "execute_result"
    }
   ],
   "source": [
    "# DEADLINE : When was the first deadline to be met?\n",
    "kickstarter ['deadline'].sort_values().head(10)"
   ]
  },
  {
   "cell_type": "code",
   "execution_count": 31,
   "metadata": {},
   "outputs": [
    {
     "data": {
      "text/plain": [
       "226982   2018-03-03\n",
       "180250   2018-03-03\n",
       "7164     2018-03-03\n",
       "71730    2018-03-02\n",
       "157114   2018-03-02\n",
       "Name: deadline, dtype: datetime64[ns]"
      ]
     },
     "execution_count": 31,
     "metadata": {},
     "output_type": "execute_result"
    }
   ],
   "source": [
    "# DEADLINE: When was the last project DEADLINE?\n",
    "kickstarter['deadline'].sort_values(ascending = False).head()"
   ]
  },
  {
   "cell_type": "raw",
   "metadata": {},
   "source": [
    "(6) PERIOD \n",
    "\n",
    "The average funding period is 33 days considering all states and the minimum is 0 days cause there are projects canceled. As stated in the Kickstarter webpage the maximum days for funding are 60 so any data over the threshold can indicate an error on : deadline, laundhing date or both, therefore those registers shall be deleted. \n",
    "\n",
    "After cleaning the original funding period the mean continues to be 33 days and the maximum is now 60 day as it should be. "
   ]
  },
  {
   "cell_type": "code",
   "execution_count": 32,
   "metadata": {},
   "outputs": [
    {
     "data": {
      "text/plain": [
       "count                     378650\n",
       "mean     33 days 15:18:16.614139\n",
       "std      12 days 19:16:23.286703\n",
       "min              0 days 00:07:17\n",
       "25%             29 days 02:20:36\n",
       "50%      29 days 16:32:21.500000\n",
       "75%             36 days 15:32:29\n",
       "max             91 days 23:06:13\n",
       "Name: period, dtype: object"
      ]
     },
     "execution_count": 32,
     "metadata": {},
     "output_type": "execute_result"
    }
   ],
   "source": [
    "#PERIOD: CREATION OF PERIOD\n",
    "kickstarter['period'] = kickstarter['deadline'] - kickstarter['launched']\n",
    "kickstarter['period'].describe()\n",
    "\n",
    "#There are some values over the threshold "
   ]
  },
  {
   "cell_type": "code",
   "execution_count": 33,
   "metadata": {
    "scrolled": true
   },
   "outputs": [
    {
     "data": {
      "text/plain": [
       "False    373941\n",
       "True       4709\n",
       "Name: period, dtype: int64"
      ]
     },
     "execution_count": 33,
     "metadata": {},
     "output_type": "execute_result"
    }
   ],
   "source": [
    "#PERIOD: Let's see how many projects have an out-of-the range period\n",
    "days = kickstarter.period.dt.days\n",
    "days_outofrange = days >= 61\n",
    "days_outofrange.value_counts()\n",
    "\n",
    "#There are 4716 projects out of the range that should be deleted "
   ]
  },
  {
   "cell_type": "code",
   "execution_count": 34,
   "metadata": {},
   "outputs": [],
   "source": [
    "#PERIOD : Correction of period\n",
    "kickstarter = kickstarter.drop(kickstarter[(kickstarter.period.dt.days > 60)].index)"
   ]
  },
  {
   "cell_type": "code",
   "execution_count": 35,
   "metadata": {},
   "outputs": [
    {
     "data": {
      "text/plain": [
       "count                     373941\n",
       "mean     33 days 00:50:30.583305\n",
       "std      11 days 15:18:33.545881\n",
       "min              0 days 00:07:17\n",
       "25%             29 days 02:14:24\n",
       "50%             29 days 15:48:00\n",
       "75%             35 days 07:37:51\n",
       "max             60 days 23:59:48\n",
       "Name: period, dtype: object"
      ]
     },
     "execution_count": 35,
     "metadata": {},
     "output_type": "execute_result"
    }
   ],
   "source": [
    "#PERIOD: Let's prove correction was made \n",
    "kickstarter['period'].describe()\n",
    "#There are 4716 projects out of the range that might be corrected after we correct 'STATE'"
   ]
  },
  {
   "cell_type": "code",
   "execution_count": 36,
   "metadata": {},
   "outputs": [
    {
     "data": {
      "image/png": "[encoded data removed]",
      "text/plain": [
       "<Figure size 432x288 with 1 Axes>"
      ]
     },
     "metadata": {
      "needs_background": "light"
     },
     "output_type": "display_data"
    }
   ],
   "source": [
    "#This is the visual exploration of period\n",
    "\n",
    "plt.hist(days, bins =10, range =[0,60])\n",
    "plt.title ('Projects by Funding Period')\n",
    "plt.xlabel('Days')\n",
    "plt.ylabel('Number of Projects')\n",
    "plt.show()\n"
   ]
  },
  {
   "cell_type": "code",
   "execution_count": 37,
   "metadata": {},
   "outputs": [
    {
     "data": {
      "text/html": [
       "<div>\n",
       "<style scoped>\n",
       "    .dataframe tbody tr th:only-of-type {\n",
       "        vertical-align: middle;\n",
       "    }\n",
       "\n",
       "    .dataframe tbody tr th {\n",
       "        vertical-align: top;\n",
       "    }\n",
       "\n",
       "    .dataframe thead th {\n",
       "        text-align: right;\n",
       "    }\n",
       "</style>\n",
       "<table border=\"1\" class=\"dataframe\">\n",
       "  <thead>\n",
       "    <tr style=\"text-align: right;\">\n",
       "      <th></th>\n",
       "      <th>counts</th>\n",
       "      <th>percent</th>\n",
       "    </tr>\n",
       "  </thead>\n",
       "  <tbody>\n",
       "    <tr>\n",
       "      <th>29</th>\n",
       "      <td>169170</td>\n",
       "      <td>44.7%</td>\n",
       "    </tr>\n",
       "    <tr>\n",
       "      <th>59</th>\n",
       "      <td>33623</td>\n",
       "      <td>8.9%</td>\n",
       "    </tr>\n",
       "    <tr>\n",
       "      <th>44</th>\n",
       "      <td>17749</td>\n",
       "      <td>4.7%</td>\n",
       "    </tr>\n",
       "    <tr>\n",
       "      <th>30</th>\n",
       "      <td>13261</td>\n",
       "      <td>3.5%</td>\n",
       "    </tr>\n",
       "    <tr>\n",
       "      <th>34</th>\n",
       "      <td>10099</td>\n",
       "      <td>2.7%</td>\n",
       "    </tr>\n",
       "    <tr>\n",
       "      <th>...</th>\n",
       "      <td>...</td>\n",
       "      <td>...</td>\n",
       "    </tr>\n",
       "    <tr>\n",
       "      <th>82</th>\n",
       "      <td>54</td>\n",
       "      <td>0.0%</td>\n",
       "    </tr>\n",
       "    <tr>\n",
       "      <th>76</th>\n",
       "      <td>52</td>\n",
       "      <td>0.0%</td>\n",
       "    </tr>\n",
       "    <tr>\n",
       "      <th>73</th>\n",
       "      <td>46</td>\n",
       "      <td>0.0%</td>\n",
       "    </tr>\n",
       "    <tr>\n",
       "      <th>78</th>\n",
       "      <td>39</td>\n",
       "      <td>0.0%</td>\n",
       "    </tr>\n",
       "    <tr>\n",
       "      <th>91</th>\n",
       "      <td>22</td>\n",
       "      <td>0.0%</td>\n",
       "    </tr>\n",
       "  </tbody>\n",
       "</table>\n",
       "<p>92 rows × 2 columns</p>\n",
       "</div>"
      ],
      "text/plain": [
       "    counts percent\n",
       "29  169170   44.7%\n",
       "59   33623    8.9%\n",
       "44   17749    4.7%\n",
       "30   13261    3.5%\n",
       "34   10099    2.7%\n",
       "..     ...     ...\n",
       "82      54    0.0%\n",
       "76      52    0.0%\n",
       "73      46    0.0%\n",
       "78      39    0.0%\n",
       "91      22    0.0%\n",
       "\n",
       "[92 rows x 2 columns]"
      ]
     },
     "execution_count": 37,
     "metadata": {},
     "output_type": "execute_result"
    }
   ],
   "source": [
    "days_counts = days.value_counts()\n",
    "days_percent = days.value_counts(normalize=True).mul(100).round(1).astype(str)+'%'\n",
    "pd.DataFrame({'counts':days_counts,'percent': days_percent})"
   ]
  },
  {
   "cell_type": "raw",
   "metadata": {},
   "source": [
    "(7) STATE : \n",
    "    State considers 6 categories, we are assumming the following :\n",
    "        - failed : projects that did not reach the goal\n",
    "        - successful : projects that did reach the goal\n",
    "        - canceled :  entrepreneurs canceled before the deadline\n",
    "        - live : projects that were alive by January 2018 \n",
    "        - suspended: assuming Kickstarted canceled these projects\n",
    "        - undefined : unavailable data \n",
    "            \n",
    "     Considering that this is our dependent variable, we should stick to 2 states : not sucessful / sucessful \n",
    "        - not succesful would represent up to 62.4% if it contained failed (52.2%) and canceled (10.2%)\n",
    "        - sucessful represents 35.4% of the data \n",
    "        \n",
    "        \n",
    "       What about 'live'/ 'undefinded' / 'suspended' ? As it is difficult to know what happened there are two options? \n",
    "        (a) get rid of live projects \n",
    "        (b) fill in the average state for those projects \n",
    "        \n",
    "        What would be the impact? \n",
    "        If we delete them, it would represent a 2.1% of the total set so we shall proceed \n",
    "        "
   ]
  },
  {
   "cell_type": "code",
   "execution_count": 38,
   "metadata": {},
   "outputs": [
    {
     "data": {
      "text/html": [
       "<div>\n",
       "<style scoped>\n",
       "    .dataframe tbody tr th:only-of-type {\n",
       "        vertical-align: middle;\n",
       "    }\n",
       "\n",
       "    .dataframe tbody tr th {\n",
       "        vertical-align: top;\n",
       "    }\n",
       "\n",
       "    .dataframe thead th {\n",
       "        text-align: right;\n",
       "    }\n",
       "</style>\n",
       "<table border=\"1\" class=\"dataframe\">\n",
       "  <thead>\n",
       "    <tr style=\"text-align: right;\">\n",
       "      <th></th>\n",
       "      <th>counts</th>\n",
       "      <th>percent</th>\n",
       "    </tr>\n",
       "  </thead>\n",
       "  <tbody>\n",
       "    <tr>\n",
       "      <th>failed</th>\n",
       "      <td>195165</td>\n",
       "      <td>52.2%</td>\n",
       "    </tr>\n",
       "    <tr>\n",
       "      <th>successful</th>\n",
       "      <td>132371</td>\n",
       "      <td>35.4%</td>\n",
       "    </tr>\n",
       "    <tr>\n",
       "      <th>canceled</th>\n",
       "      <td>38209</td>\n",
       "      <td>10.2%</td>\n",
       "    </tr>\n",
       "    <tr>\n",
       "      <th>undefined</th>\n",
       "      <td>3561</td>\n",
       "      <td>1.0%</td>\n",
       "    </tr>\n",
       "    <tr>\n",
       "      <th>live</th>\n",
       "      <td>2799</td>\n",
       "      <td>0.7%</td>\n",
       "    </tr>\n",
       "    <tr>\n",
       "      <th>suspended</th>\n",
       "      <td>1836</td>\n",
       "      <td>0.5%</td>\n",
       "    </tr>\n",
       "  </tbody>\n",
       "</table>\n",
       "</div>"
      ],
      "text/plain": [
       "            counts percent\n",
       "failed      195165   52.2%\n",
       "successful  132371   35.4%\n",
       "canceled     38209   10.2%\n",
       "undefined     3561    1.0%\n",
       "live          2799    0.7%\n",
       "suspended     1836    0.5%"
      ]
     },
     "execution_count": 38,
     "metadata": {},
     "output_type": "execute_result"
    }
   ],
   "source": [
    "#How many values of state do we have?\n",
    "state_counts = kickstarter ['state'].value_counts()\n",
    "state_percent = kickstarter.state.value_counts(normalize=True).mul(100).round(1).astype(str)+'%'\n",
    "pd.DataFrame({'counts':state_counts,'percent': state_percent})\n",
    "        "
   ]
  },
  {
   "cell_type": "code",
   "execution_count": 39,
   "metadata": {},
   "outputs": [
    {
     "data": {
      "text/plain": [
       "<matplotlib.axes._subplots.AxesSubplot at 0x1a2659dcd0>"
      ]
     },
     "execution_count": 39,
     "metadata": {},
     "output_type": "execute_result"
    },
    {
     "data": {
      "image/png": "[encoded data removed]",
      "text/plain": [
       "<Figure size 432x288 with 1 Axes>"
      ]
     },
     "metadata": {
      "needs_background": "light"
     },
     "output_type": "display_data"
    }
   ],
   "source": [
    "#Plot projects by state\n",
    "kickstarter['state'].value_counts().plot.bar(title='Projects by state')"
   ]
  },
  {
   "cell_type": "code",
   "execution_count": 40,
   "metadata": {},
   "outputs": [],
   "source": [
    "# DELETING SOME CATEGORIES FROM'STATE'\n",
    "kickstarter = kickstarter.drop(kickstarter[(kickstarter.state == 'undefined')].index)\n",
    "kickstarter = kickstarter.drop(kickstarter[(kickstarter.state == 'live')].index)\n",
    "kickstarter = kickstarter.drop(kickstarter[(kickstarter.state == 'suspended')].index)\n"
   ]
  },
  {
   "cell_type": "code",
   "execution_count": 41,
   "metadata": {},
   "outputs": [
    {
     "data": {
      "text/html": [
       "<div>\n",
       "<style scoped>\n",
       "    .dataframe tbody tr th:only-of-type {\n",
       "        vertical-align: middle;\n",
       "    }\n",
       "\n",
       "    .dataframe tbody tr th {\n",
       "        vertical-align: top;\n",
       "    }\n",
       "\n",
       "    .dataframe thead th {\n",
       "        text-align: right;\n",
       "    }\n",
       "</style>\n",
       "<table border=\"1\" class=\"dataframe\">\n",
       "  <thead>\n",
       "    <tr style=\"text-align: right;\">\n",
       "      <th></th>\n",
       "      <th>counts</th>\n",
       "      <th>percent</th>\n",
       "    </tr>\n",
       "  </thead>\n",
       "  <tbody>\n",
       "    <tr>\n",
       "      <th>failed</th>\n",
       "      <td>195165</td>\n",
       "      <td>53.4%</td>\n",
       "    </tr>\n",
       "    <tr>\n",
       "      <th>successful</th>\n",
       "      <td>132371</td>\n",
       "      <td>36.2%</td>\n",
       "    </tr>\n",
       "    <tr>\n",
       "      <th>canceled</th>\n",
       "      <td>38209</td>\n",
       "      <td>10.4%</td>\n",
       "    </tr>\n",
       "  </tbody>\n",
       "</table>\n",
       "</div>"
      ],
      "text/plain": [
       "            counts percent\n",
       "failed      195165   53.4%\n",
       "successful  132371   36.2%\n",
       "canceled     38209   10.4%"
      ]
     },
     "execution_count": 41,
     "metadata": {},
     "output_type": "execute_result"
    }
   ],
   "source": [
    "# PROVE OF DROP OFF\n",
    "state_counts = kickstarter ['state'].value_counts()\n",
    "state_percent = kickstarter.state.value_counts(normalize=True).mul(100).round(1).astype(str)+'%'\n",
    "pd.DataFrame({'counts':state_counts,'percent': state_percent})"
   ]
  },
  {
   "cell_type": "raw",
   "metadata": {},
   "source": [
    "(8) COUNTRY \n",
    "\n",
    "Country had a mistake regarding a country named \"N,0\" since there were only 232 values in such a case it was better to delete them. After data correction, US was the top represented country accounting for 78% of the data set, folowed by Great Britain (9.1%), Canada (4.0%) and Australia (2.1%). Normalization process will be needed. \n"
   ]
  },
  {
   "cell_type": "code",
   "execution_count": 42,
   "metadata": {},
   "outputs": [
    {
     "data": {
      "text/plain": [
       "US      284972\n",
       "GB       33213\n",
       "CA       14508\n",
       "AU        7681\n",
       "DE        4057\n",
       "FR        2869\n",
       "NL        2806\n",
       "IT        2775\n",
       "ES        2204\n",
       "SE        1718\n",
       "MX        1632\n",
       "NZ        1425\n",
       "DK        1083\n",
       "IE         793\n",
       "CH         736\n",
       "NO         694\n",
       "BE         594\n",
       "AT         576\n",
       "HK         564\n",
       "SG         521\n",
       "N,0\"       232\n",
       "LU          61\n",
       "JP          31\n",
       "Name: country, dtype: int64"
      ]
     },
     "execution_count": 42,
     "metadata": {},
     "output_type": "execute_result"
    }
   ],
   "source": [
    "#How many values of countries do we have? \n",
    "kickstarter ['country'].value_counts()"
   ]
  },
  {
   "cell_type": "code",
   "execution_count": 43,
   "metadata": {},
   "outputs": [
    {
     "data": {
      "text/plain": [
       "US    284972\n",
       "GB     33213\n",
       "CA     14508\n",
       "AU      7681\n",
       "DE      4057\n",
       "FR      2869\n",
       "NL      2806\n",
       "IT      2775\n",
       "ES      2204\n",
       "SE      1718\n",
       "MX      1632\n",
       "NZ      1425\n",
       "DK      1083\n",
       "IE       793\n",
       "CH       736\n",
       "NO       694\n",
       "BE       594\n",
       "AT       576\n",
       "HK       564\n",
       "SG       521\n",
       "LU        61\n",
       "JP        31\n",
       "Name: country, dtype: int64"
      ]
     },
     "execution_count": 43,
     "metadata": {},
     "output_type": "execute_result"
    }
   ],
   "source": [
    "#There is an error in N,0\" which we will drop\n",
    "kickstarter = kickstarter.drop(kickstarter[(kickstarter.country == 'N,0\"')].index)\n",
    "\n",
    "#I am going to check if  the error was corrected properly \n",
    "kickstarter ['country'].value_counts()\n"
   ]
  },
  {
   "cell_type": "code",
   "execution_count": 44,
   "metadata": {},
   "outputs": [
    {
     "data": {
      "text/html": [
       "<div>\n",
       "<style scoped>\n",
       "    .dataframe tbody tr th:only-of-type {\n",
       "        vertical-align: middle;\n",
       "    }\n",
       "\n",
       "    .dataframe tbody tr th {\n",
       "        vertical-align: top;\n",
       "    }\n",
       "\n",
       "    .dataframe thead th {\n",
       "        text-align: right;\n",
       "    }\n",
       "</style>\n",
       "<table border=\"1\" class=\"dataframe\">\n",
       "  <thead>\n",
       "    <tr style=\"text-align: right;\">\n",
       "      <th></th>\n",
       "      <th>counts</th>\n",
       "      <th>percent</th>\n",
       "    </tr>\n",
       "  </thead>\n",
       "  <tbody>\n",
       "    <tr>\n",
       "      <th>US</th>\n",
       "      <td>284972</td>\n",
       "      <td>78.0%</td>\n",
       "    </tr>\n",
       "    <tr>\n",
       "      <th>GB</th>\n",
       "      <td>33213</td>\n",
       "      <td>9.1%</td>\n",
       "    </tr>\n",
       "    <tr>\n",
       "      <th>CA</th>\n",
       "      <td>14508</td>\n",
       "      <td>4.0%</td>\n",
       "    </tr>\n",
       "    <tr>\n",
       "      <th>AU</th>\n",
       "      <td>7681</td>\n",
       "      <td>2.1%</td>\n",
       "    </tr>\n",
       "    <tr>\n",
       "      <th>DE</th>\n",
       "      <td>4057</td>\n",
       "      <td>1.1%</td>\n",
       "    </tr>\n",
       "    <tr>\n",
       "      <th>FR</th>\n",
       "      <td>2869</td>\n",
       "      <td>0.8%</td>\n",
       "    </tr>\n",
       "    <tr>\n",
       "      <th>NL</th>\n",
       "      <td>2806</td>\n",
       "      <td>0.8%</td>\n",
       "    </tr>\n",
       "    <tr>\n",
       "      <th>IT</th>\n",
       "      <td>2775</td>\n",
       "      <td>0.8%</td>\n",
       "    </tr>\n",
       "    <tr>\n",
       "      <th>ES</th>\n",
       "      <td>2204</td>\n",
       "      <td>0.6%</td>\n",
       "    </tr>\n",
       "    <tr>\n",
       "      <th>SE</th>\n",
       "      <td>1718</td>\n",
       "      <td>0.5%</td>\n",
       "    </tr>\n",
       "    <tr>\n",
       "      <th>MX</th>\n",
       "      <td>1632</td>\n",
       "      <td>0.4%</td>\n",
       "    </tr>\n",
       "    <tr>\n",
       "      <th>NZ</th>\n",
       "      <td>1425</td>\n",
       "      <td>0.4%</td>\n",
       "    </tr>\n",
       "    <tr>\n",
       "      <th>DK</th>\n",
       "      <td>1083</td>\n",
       "      <td>0.3%</td>\n",
       "    </tr>\n",
       "    <tr>\n",
       "      <th>IE</th>\n",
       "      <td>793</td>\n",
       "      <td>0.2%</td>\n",
       "    </tr>\n",
       "    <tr>\n",
       "      <th>CH</th>\n",
       "      <td>736</td>\n",
       "      <td>0.2%</td>\n",
       "    </tr>\n",
       "    <tr>\n",
       "      <th>NO</th>\n",
       "      <td>694</td>\n",
       "      <td>0.2%</td>\n",
       "    </tr>\n",
       "    <tr>\n",
       "      <th>BE</th>\n",
       "      <td>594</td>\n",
       "      <td>0.2%</td>\n",
       "    </tr>\n",
       "    <tr>\n",
       "      <th>AT</th>\n",
       "      <td>576</td>\n",
       "      <td>0.2%</td>\n",
       "    </tr>\n",
       "    <tr>\n",
       "      <th>HK</th>\n",
       "      <td>564</td>\n",
       "      <td>0.2%</td>\n",
       "    </tr>\n",
       "    <tr>\n",
       "      <th>SG</th>\n",
       "      <td>521</td>\n",
       "      <td>0.1%</td>\n",
       "    </tr>\n",
       "    <tr>\n",
       "      <th>LU</th>\n",
       "      <td>61</td>\n",
       "      <td>0.0%</td>\n",
       "    </tr>\n",
       "    <tr>\n",
       "      <th>JP</th>\n",
       "      <td>31</td>\n",
       "      <td>0.0%</td>\n",
       "    </tr>\n",
       "  </tbody>\n",
       "</table>\n",
       "</div>"
      ],
      "text/plain": [
       "    counts percent\n",
       "US  284972   78.0%\n",
       "GB   33213    9.1%\n",
       "CA   14508    4.0%\n",
       "AU    7681    2.1%\n",
       "DE    4057    1.1%\n",
       "FR    2869    0.8%\n",
       "NL    2806    0.8%\n",
       "IT    2775    0.8%\n",
       "ES    2204    0.6%\n",
       "SE    1718    0.5%\n",
       "MX    1632    0.4%\n",
       "NZ    1425    0.4%\n",
       "DK    1083    0.3%\n",
       "IE     793    0.2%\n",
       "CH     736    0.2%\n",
       "NO     694    0.2%\n",
       "BE     594    0.2%\n",
       "AT     576    0.2%\n",
       "HK     564    0.2%\n",
       "SG     521    0.1%\n",
       "LU      61    0.0%\n",
       "JP      31    0.0%"
      ]
     },
     "execution_count": 44,
     "metadata": {},
     "output_type": "execute_result"
    }
   ],
   "source": [
    "#How many values of country do we have?\n",
    "country_counts = kickstarter ['country'].value_counts()\n",
    "country_percent = kickstarter.country.value_counts(normalize=True).mul(100).round(1).astype(str)+'%'\n",
    "pd.DataFrame({'counts':country_counts,'percent': country_percent})\n",
    "        "
   ]
  },
  {
   "cell_type": "code",
   "execution_count": 45,
   "metadata": {},
   "outputs": [
    {
     "data": {
      "text/plain": [
       "<matplotlib.axes._subplots.AxesSubplot at 0x1a24614f10>"
      ]
     },
     "execution_count": 45,
     "metadata": {},
     "output_type": "execute_result"
    },
    {
     "data": {
      "image/png": "[encoded data removed]",
      "text/plain": [
       "<Figure size 432x288 with 1 Axes>"
      ]
     },
     "metadata": {
      "needs_background": "light"
     },
     "output_type": "display_data"
    }
   ],
   "source": [
    "#Plot projects by country\n",
    "kickstarter['country'].value_counts().plot.bar(title='Projects by country')"
   ]
  },
  {
   "cell_type": "markdown",
   "metadata": {},
   "source": [
    "(9) BACKERS \n",
    "\n",
    "Miniumum of backers is 0 and maximum is 219,382 so the range is withing logical values. \n",
    "Average backers are 108. \n",
    "\n",
    "To improve data quality 'backers' should be an integer since a 'backer' is actually a person and can not be splitted.\n"
   ]
  },
  {
   "cell_type": "code",
   "execution_count": 46,
   "metadata": {},
   "outputs": [],
   "source": [
    "kickstarter['backers'] = kickstarter[\"backers\"].astype(int)"
   ]
  },
  {
   "cell_type": "code",
   "execution_count": 47,
   "metadata": {
    "scrolled": false
   },
   "outputs": [
    {
     "data": {
      "text/plain": [
       "count    365513.000000\n",
       "mean        107.893675\n",
       "std         921.010774\n",
       "min           0.000000\n",
       "25%           2.000000\n",
       "50%          12.000000\n",
       "75%          57.000000\n",
       "max      219382.000000\n",
       "Name: backers, dtype: float64"
      ]
     },
     "execution_count": 47,
     "metadata": {},
     "output_type": "execute_result"
    }
   ],
   "source": [
    "#How many values of backers do we have? \n",
    "kickstarter['backers'].describe()"
   ]
  },
  {
   "cell_type": "code",
   "execution_count": 48,
   "metadata": {},
   "outputs": [
    {
     "name": "stdout",
     "output_type": "stream",
     "text": [
      "The project with most supporters had 49886 backers\n"
     ]
    }
   ],
   "source": [
    "# What has been the maximum backers per project? \n",
    "max_backers_per_project = kickstarter[\"backers\"].value_counts(sort=True)\n",
    "print(\"The project with most supporters had\", max_backers_per_project.max(),\"backers\")"
   ]
  },
  {
   "cell_type": "raw",
   "metadata": {},
   "source": [
    "(10) FUNDED RATIO\n",
    "    The creation a new variable called \"funded\" will allow us to understand how many times were the projects backed or not. The formula goes as follows:  \n",
    "    \n",
    "             Funded_ratio = usdpledged / goal\n",
    "   \n",
    "   On average projects received 3.29x of the capital they were requesting originally."
   ]
  },
  {
   "cell_type": "code",
   "execution_count": 49,
   "metadata": {},
   "outputs": [
    {
     "data": {
      "text/plain": [
       "count    365513.000000\n",
       "mean          3.295969\n",
       "std         271.512087\n",
       "min           0.000000\n",
       "25%           0.004750\n",
       "50%           0.137300\n",
       "75%           1.067333\n",
       "max      104277.890000\n",
       "Name: funded_ratio, dtype: float64"
      ]
     },
     "execution_count": 49,
     "metadata": {},
     "output_type": "execute_result"
    }
   ],
   "source": [
    "#FUNDED RATIO : By which extend was the project backed?\n",
    "kickstarter['funded_ratio'] = kickstarter['usd_pledged_real']/kickstarter['usd_goal_real']\n",
    "kickstarter['funded_ratio'].describe()"
   ]
  },
  {
   "cell_type": "code",
   "execution_count": 54,
   "metadata": {},
   "outputs": [
    {
     "name": "stdout",
     "output_type": "stream",
     "text": [
      "<class 'pandas.core.frame.DataFrame'>\n",
      "Int64Index: 365513 entries, 0 to 378660\n",
      "Data columns (total 18 columns):\n",
      " #   Column            Non-Null Count   Dtype          \n",
      "---  ------            --------------   -----          \n",
      " 0   ID                365513 non-null  int64          \n",
      " 1   name              365513 non-null  object         \n",
      " 2   category          365513 non-null  object         \n",
      " 3   main_category     365513 non-null  object         \n",
      " 4   currency          365513 non-null  object         \n",
      " 5   deadline          365513 non-null  datetime64[ns] \n",
      " 6   goal              365513 non-null  float64        \n",
      " 7   launched          365513 non-null  datetime64[ns] \n",
      " 8   pledged           365513 non-null  float64        \n",
      " 9   state             365513 non-null  object         \n",
      " 10  backers           365513 non-null  int64          \n",
      " 11  country           365513 non-null  object         \n",
      " 12  usd pledged       365513 non-null  float64        \n",
      " 13  usd_pledged_real  365513 non-null  float64        \n",
      " 14  usd_goal_real     365513 non-null  float64        \n",
      " 15  launched_year     365513 non-null  int64          \n",
      " 16  period            365513 non-null  timedelta64[ns]\n",
      " 17  funded_ratio      365513 non-null  float64        \n",
      "dtypes: datetime64[ns](2), float64(6), int64(3), object(6), timedelta64[ns](1)\n",
      "memory usage: 53.0+ MB\n"
     ]
    }
   ],
   "source": [
    "# GENERAL : Final shape \n",
    "kickstarter.info()"
   ]
  },
  {
   "cell_type": "code",
   "execution_count": 55,
   "metadata": {},
   "outputs": [],
   "source": [
    "#SAVING THE FILE \n",
    "kickstarter.to_csv('ks-projects-201801-clean.csv', index = False)"
   ]
  }
 ],
 "metadata": {
  "kernelspec": {
   "display_name": "Python 3",
   "language": "python",
   "name": "python3"
  },
  "language_info": {
   "codemirror_mode": {
    "name": "ipython",
    "version": 3
   },
   "file_extension": ".py",
   "mimetype": "text/x-python",
   "name": "python",
   "nbconvert_exporter": "python",
   "pygments_lexer": "ipython3",
   "version": "3.7.6"
  }
 },
 "nbformat": 4,
 "nbformat_minor": 4
}
